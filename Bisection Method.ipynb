{
 "cells": [
  {
   "cell_type": "markdown",
   "metadata": {
    "collapsed": true,
    "pycharm": {
     "name": "#%% md\n"
    }
   },
   "source": [
    "a) Write a python that takes as input a function with domain the interval [$x_{1}$, $x_{2}$], $x_{1}$ and $x_{2}$ \n",
    "themselves and a tolerance $\\epsilon$. This function must use the bisection method and return the root of $f(x)$."
   ]
  },
  {
   "cell_type": "markdown",
   "source": [
    "Answer:"
   ],
   "metadata": {
    "collapsed": false,
    "pycharm": {
     "name": "#%% md\n"
    }
   }
  },
  {
   "cell_type": "markdown",
   "source": [
    "Lets take as example the standard CRRA function and the basic consumer problem that is:\n",
    "$max\\space{u(c) + u(y -c)}$ where $u(c) = \\frac{c^{1-\\delta}-1}{1-\\delta}$, where y is the income, c is the consumption.\n",
    "Maximizing the function we get: $F(c) = u'(c) - u(y-c) = c^{\\delta} - (y-c)^{-\\delta}$ the consumption that makes \n",
    "$F(c) = 0$ is the root of our objective function. Defining the function and the constants:"
   ],
   "metadata": {
    "collapsed": false,
    "pycharm": {
     "name": "#%% md\n"
    }
   }
  },
  {
   "cell_type": "code",
   "execution_count": 3,
   "outputs": [],
   "source": [
    "delta = 2 \n",
    "y = 1 #income remember that is no domain >10\n",
    "#I want to make this function as general as possible so Im passing x as argument otherwise than c(for consumption)\n",
    "#but bear in mind that x stands for consume in our example\n",
    "def ex_function(x):     \n",
    "    return x**(-delta) - (y-x)**(-delta)"
   ],
   "metadata": {
    "collapsed": false,
    "pycharm": {
     "name": "#%% \n",
     "is_executing": false
    }
   }
  },
  {
   "cell_type": "markdown",
   "source": [
    "Now we'll do what is asked using both previous functions."
   ],
   "metadata": {
    "collapsed": false,
    "pycharm": {
     "name": "#%% md\n"
    }
   }
  },
  {
   "cell_type": "code",
   "execution_count": 4,
   "outputs": [],
   "source": [
    "tol = 1e-9 #tolerance, epsilon\n",
    "def bisection(ex_function,x_1, x_2, tol):\n",
    "    norm = 1\n",
    "    while norm > tol:\n",
    "        x_hat = (x_1 + x_2)*0.5     \n",
    "        root_hat = ex_function(x_hat)\n",
    "        if root_hat > 0:\n",
    "            x_1 = x_hat\n",
    "        elif root_hat < 0:\n",
    "            x_2 = x_hat\n",
    "        else:\n",
    "            break\n",
    "        norm = abs(x_2-x_1)        \n",
    "    return x_hat"
   ],
   "metadata": {
    "collapsed": false,
    "pycharm": {
     "name": "#%%\n",
     "is_executing": false
    }
   }
  },
  {
   "cell_type": "code",
   "execution_count": 5,
   "outputs": [
    {
     "name": "stdout",
     "text": [
      "0.5\n"
     ],
     "output_type": "stream"
    }
   ],
   "source": [
    "root = bisection(ex_function,0,1, tol)\n",
    "print(root)"
   ],
   "metadata": {
    "collapsed": false,
    "pycharm": {
     "name": "#%%\n",
     "is_executing": false
    }
   }
  },
  {
   "cell_type": "markdown",
   "source": [
    "Another way to do it is changing the if statement a little: "
   ],
   "metadata": {
    "collapsed": false,
    "pycharm": {
     "name": "#%% md\n"
    }
   }
  },
  {
   "cell_type": "code",
   "execution_count": 6,
   "outputs": [],
   "source": [
    "def aux_fuc(ex_function, x_1,x_2, tol):\n",
    "    norm = 1\n",
    "    while norm >tol:\n",
    "        xm = 0.5*(x_1 + x_2)\n",
    "        if ex_function(xm)==0:\n",
    "            break\n",
    "        elif ex_function(xm)*ex_function(x_2) < 0:\n",
    "            x_1 = xm\n",
    "        else:\n",
    "            x_2 = xm\n",
    "        norm = abs(x_2-x_1) \n",
    "    return xm"
   ],
   "metadata": {
    "collapsed": false,
    "pycharm": {
     "name": "#%%\n",
     "is_executing": false
    }
   }
  },
  {
   "cell_type": "code",
   "execution_count": 7,
   "outputs": [
    {
     "name": "stdout",
     "text": [
      "0.5\n"
     ],
     "output_type": "stream"
    }
   ],
   "source": [
    "root1 = aux_fuc(ex_function,0,1, tol)\n",
    "print(root1)            "
   ],
   "metadata": {
    "collapsed": false,
    "pycharm": {
     "name": "#%%\n",
     "is_executing": false
    }
   }
  },
  {
   "cell_type": "markdown",
   "source": [
    "b) Use the function defined in a) to find the root of $f(x) = x^{3} - 10x^{2} + 5$ which its domain is [0,1]."
   ],
   "metadata": {
    "collapsed": false,
    "pycharm": {
     "name": "#%% md\n"
    }
   }
  },
  {
   "cell_type": "markdown",
   "source": [
    "Answer"
   ],
   "metadata": {
    "collapsed": false,
    "pycharm": {
     "name": "#%% md\n"
    }
   }
  },
  {
   "cell_type": "markdown",
   "source": [
    "Lets define the function"
   ],
   "metadata": {
    "collapsed": false,
    "pycharm": {
     "name": "#%% md\n"
    }
   }
  },
  {
   "cell_type": "code",
   "execution_count": 8,
   "outputs": [],
   "source": [
    "def func(x): \n",
    "    result = x**3 - 10*(x**2) + 5\n",
    "    return result"
   ],
   "metadata": {
    "collapsed": false,
    "pycharm": {
     "name": "#%%\n",
     "is_executing": false
    }
   }
  },
  {
   "cell_type": "markdown",
   "source": [
    "Now aswering the question:"
   ],
   "metadata": {
    "collapsed": false,
    "pycharm": {
     "name": "#%% md\n"
    }
   }
  },
  {
   "cell_type": "code",
   "execution_count": 9,
   "outputs": [
    {
     "name": "stdout",
     "text": [
      "The root of this function is 0.734604.\n"
     ],
     "output_type": "stream"
    }
   ],
   "source": [
    "r = bisection(func, 0,1, tol)\n",
    "print(f'The root of this function is {r:4f}.')"
   ],
   "metadata": {
    "collapsed": false,
    "pycharm": {
     "name": "#%%\n",
     "is_executing": false
    }
   }
  },
  {
   "cell_type": "code",
   "execution_count": 10,
   "outputs": [
    {
     "name": "stdout",
     "text": [
      "The root of this function is 0.734604.\n"
     ],
     "output_type": "stream"
    }
   ],
   "source": [
    "r_1 = aux_fuc(func, 0,1, tol)\n",
    "print(f'The root of this function is {r_1:4f}.')"
   ],
   "metadata": {
    "collapsed": false,
    "pycharm": {
     "name": "#%%\n",
     "is_executing": false
    }
   }
  },
  {
   "cell_type": "markdown",
   "source": [
    "c) Do a) again without using while loop."
   ],
   "metadata": {
    "collapsed": false,
    "pycharm": {
     "name": "#%% md\n"
    }
   }
  },
  {
   "cell_type": "markdown",
   "source": [
    "Answer:"
   ],
   "metadata": {
    "collapsed": false,
    "pycharm": {
     "name": "#%% md\n"
    }
   }
  },
  {
   "cell_type": "markdown",
   "source": [
    "We will do it using a for loop, first we will iterate the function that we created in a) and count how many\n",
    "iterations it takes to converge:"
   ],
   "metadata": {
    "collapsed": false,
    "pycharm": {
     "name": "#%% md\n"
    }
   }
  },
  {
   "cell_type": "code",
   "execution_count": 11,
   "outputs": [],
   "source": [
    "tol = 1e-9 #tolerance, epsilon\n",
    "def bisection_it(ex_function,x_1, x_2, tol):\n",
    "    norm = 1\n",
    "    it = 0\n",
    "    while norm > tol:\n",
    "        x_hat = (x_1 + x_2)*0.5     \n",
    "        root_hat = ex_function(x_hat)\n",
    "        if root_hat > 0:\n",
    "            x_1 = x_hat\n",
    "        elif root_hat < 0:\n",
    "            x_2 = x_hat\n",
    "        else:\n",
    "            break\n",
    "        it += 1\n",
    "        norm = abs(x_2-x_1)        \n",
    "    return x_hat, it"
   ],
   "metadata": {
    "collapsed": false,
    "pycharm": {
     "name": "#%%\n",
     "is_executing": false
    }
   }
  },
  {
   "cell_type": "markdown",
   "source": [
    "Now we will see how many iterations it takes to the function in b) to converge:"
   ],
   "metadata": {
    "collapsed": false,
    "pycharm": {
     "name": "#%% md\n"
    }
   }
  },
  {
   "cell_type": "code",
   "execution_count": 12,
   "outputs": [
    {
     "name": "stdout",
     "text": [
      "It took 30 interations to converge\n"
     ],
     "output_type": "stream"
    }
   ],
   "source": [
    "r_3, it = bisection_it(func, 0,1, tol)\n",
    "print(f'It took {it} interations to converge')"
   ],
   "metadata": {
    "collapsed": false,
    "pycharm": {
     "name": "#%%\n",
     "is_executing": false
    }
   }
  },
  {
   "cell_type": "markdown",
   "source": [
    "It took 30 iterations to converge, now we will create a function using a for loop:"
   ],
   "metadata": {
    "collapsed": false,
    "pycharm": {
     "name": "#%% md\n"
    }
   }
  },
  {
   "cell_type": "code",
   "execution_count": 13,
   "outputs": [],
   "source": [
    "def bisection_for(func, x_1, x_2, tol):\n",
    "    for i in range(30):\n",
    "        x_hat = (x_1 + x_2)*0.5     \n",
    "        root_hat = func(x_hat)\n",
    "        if root_hat > 0:\n",
    "            x_1 = x_hat\n",
    "        elif root_hat < 0:\n",
    "            x_2 = x_hat\n",
    "        else:\n",
    "            break\n",
    "    return x_hat"
   ],
   "metadata": {
    "collapsed": false,
    "pycharm": {
     "name": "#%%\n",
     "is_executing": false
    }
   }
  },
  {
   "cell_type": "code",
   "execution_count": 14,
   "outputs": [
    {
     "name": "stdout",
     "text": [
      "The root of this function is 0.734604.\n"
     ],
     "output_type": "stream"
    }
   ],
   "source": [
    "r_4 = bisection_for(func, 0,1, tol)\n",
    "print(f'The root of this function is {r_4:4f}.')"
   ],
   "metadata": {
    "collapsed": false,
    "pycharm": {
     "name": "#%%\n",
     "is_executing": false
    }
   }
  },
  {
   "cell_type": "markdown",
   "source": [
    "And that's it.              \n",
    "        "
   ],
   "metadata": {
    "collapsed": false,
    "pycharm": {
     "name": "#%% md\n"
    }
   }
  }
 ],
 "metadata": {
  "kernelspec": {
   "display_name": "Python 3",
   "language": "python",
   "name": "python3"
  },
  "language_info": {
   "codemirror_mode": {
    "name": "ipython",
    "version": 2
   },
   "file_extension": ".py",
   "mimetype": "text/x-python",
   "name": "python",
   "nbconvert_exporter": "python",
   "pygments_lexer": "ipython2",
   "version": "2.7.6"
  },
  "pycharm": {
   "stem_cell": {
    "cell_type": "raw",
    "source": [],
    "metadata": {
     "collapsed": false
    }
   }
  }
 },
 "nbformat": 4,
 "nbformat_minor": 0
}