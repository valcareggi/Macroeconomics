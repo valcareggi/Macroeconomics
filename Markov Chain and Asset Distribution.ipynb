{
 "cells": [
  {
   "cell_type": "markdown",
   "source": [
    "Consider a markovian process with state spaces {0,1} with the following state-transition matrix:\n",
    "$\\pi =$ \\begin{bmatrix}\n",
    "Pr(s_{t+1} = 0|s_{t}= 0) & Pr(s_{t+1} = 1|s_{t}= 0) \\\\\n",
    "Pr(s_{t+1} = 0|s_{t}= 1) & Pr(s_{t+1} = 1|s_{t}= 1) \n",
    "\\end{bmatrix}."
   ],
   "metadata": {
    "collapsed": false,
    "pycharm": {
     "name": "#%% md\n"
    }
   }
  },
  {
   "cell_type": "markdown",
   "source": [
    "Assume that $Pr(s_{t+1} = 0|s_{t}= 0) = Pr(s_{t+1} = 1|s_{t}= 1) = 2/3$ and $Pr(s_{t+1} = 0|s_{t}= 1) = \n",
    "Pr(s_{t+1} = 1|s_{t} = 0) = 1/3$. Consider that the initial distribution for the states as: $\\Pi_{0} = [5/6 1/6]'$ \n",
    "and answer the following itens:"
   ],
   "metadata": {
    "collapsed": false,
    "pycharm": {
     "name": "#%% md\n"
    }
   }
  },
  {
   "cell_type": "markdown",
   "source": [
    "a) Right a Python function that iterates the states until the stationary state distribution for a given initial condition. \n",
    "Like: $\\Pi_{t+1} = \\pi'\\Pi_{t}$"
   ],
   "metadata": {
    "collapsed": false,
    "pycharm": {
     "name": "#%% md\n"
    }
   }
  },
  {
   "cell_type": "markdown",
   "source": [
    "Answer:"
   ],
   "metadata": {
    "collapsed": false
   }
  },
  {
   "cell_type": "markdown",
   "source": [
    "Importing modules"
   ],
   "metadata": {
    "collapsed": false,
    "pycharm": {
     "name": "#%% md\n"
    }
   }
  },
  {
   "cell_type": "code",
   "execution_count": 29,
   "outputs": [],
   "source": [
    "import numpy as np\n",
    "from scipy import linalg"
   ],
   "metadata": {
    "collapsed": false,
    "pycharm": {
     "name": "#%%\n",
     "is_executing": false
    }
   }
  },
  {
   "cell_type": "markdown",
   "source": [
    "Defining the state-transition matrix and the initial condition:"
   ],
   "metadata": {
    "collapsed": false,
    "pycharm": {
     "name": "#%% md\n"
    }
   }
  },
  {
   "cell_type": "code",
   "execution_count": 30,
   "outputs": [],
   "source": [
    "T = np.array([[2/3, 1/3], [1/3 , 2/3]])\n",
    "pi_0 = np.array([[5/6, 1/6]])"
   ],
   "metadata": {
    "collapsed": false,
    "pycharm": {
     "name": "#%%\n",
     "is_executing": false
    }
   }
  },
  {
   "cell_type": "markdown",
   "source": [
    "Creating the function:"
   ],
   "metadata": {
    "collapsed": false,
    "pycharm": {
     "name": "#%% md\n"
    }
   }
  },
  {
   "cell_type": "code",
   "source": [
    "#Returns the stationary distribution\n",
    "def markov_int(T, pi_0):\n",
    "    pi_t = np.copy(pi_0)\n",
    "    norm, tol = 1, 1e-6\n",
    "    while norm > tol:\n",
    "        pi_t1 = np.dot(pi_t, T)\n",
    "        norm = np.max(abs(pi_t1 - pi_t))\n",
    "        pi_t = np.copy(pi_t1)\n",
    "    return pi_t"
   ],
   "metadata": {
    "collapsed": false,
    "pycharm": {
     "name": "#%% \n",
     "is_executing": false
    }
   },
   "execution_count": 31,
   "outputs": []
  },
  {
   "cell_type": "code",
   "execution_count": 32,
   "outputs": [
    {
     "name": "stdout",
     "text": [
      "The stationary distribution is [[0.50000021 0.49999979]]\n"
     ],
     "output_type": "stream"
    }
   ],
   "source": [
    "pi_t = markov_int(T, pi_0)\n",
    "print(f'The stationary distribution is {pi_t}')"
   ],
   "metadata": {
    "collapsed": false,
    "pycharm": {
     "name": "#%%\n",
     "is_executing": false
    }
   }
  },
  {
   "cell_type": "markdown",
   "source": [
    "b) Create a function in Python that returns the stationary distribution using the \n",
    "left normalized eigenvector of $\\pi$ associated to the eignvalue $1$. "
   ],
   "metadata": {
    "collapsed": false,
    "pycharm": {
     "name": "#%% md\n"
    }
   }
  },
  {
   "cell_type": "markdown",
   "source": [
    "I will deactivate the warnings because sometimes the function to find the eignvalues/vectors divides by zero"
   ],
   "metadata": {
    "collapsed": false,
    "pycharm": {
     "name": "#%% md\n"
    }
   }
  },
  {
   "cell_type": "code",
   "execution_count": 33,
   "outputs": [],
   "source": [
    "import warnings\n",
    "warnings.filterwarnings('ignore')"
   ],
   "metadata": {
    "collapsed": false,
    "pycharm": {
     "name": "#%%\n",
     "is_executing": false
    }
   }
  },
  {
   "cell_type": "code",
   "execution_count": 34,
   "outputs": [],
   "source": [
    "# returns the normalized eignvectors and eignvalues\n",
    "# the first line calculates the eignvector(its normalized already) and eignvalues\n",
    "# the second line copies the eignvectors\n",
    "# the third line normalizes it(just because the exercise asks to do it)\n",
    "def markov_matr(T):\n",
    "    w, v = linalg.eig(T, left = True, right = False)\n",
    "    pi = v[:, :]\n",
    "    pi /= pi.sum(axis = 0) \n",
    "    return pi, w"
   ],
   "metadata": {
    "collapsed": false,
    "pycharm": {
     "name": "#%%\n",
     "is_executing": false
    }
   }
  },
  {
   "cell_type": "code",
   "execution_count": 35,
   "outputs": [
    {
     "name": "stdout",
     "text": [
      "[[ 0.5 -inf]\n",
      " [ 0.5  inf]]\n",
      "[1.         0.33333333]\n",
      "[[0.5]\n",
      " [0.5]]\n",
      "The first column of the eignvectors matrix is the eignvector associated to the first eignvalue and so on.\n",
      "The normalized eignvectors matrix is:\n",
      "[[ 0.5 -inf]\n",
      " [ 0.5  inf]]\n",
      "The eignvalues associated are:\n",
      "[1.         0.33333333]\n"
     ],
     "output_type": "stream"
    }
   ],
   "source": [
    "v, w = markov_matr(T)\n",
    "print(v)\n",
    "print(abs(w))\n",
    "print(v[:,0].reshape(2,1))\n",
    "print('The first column of the eignvectors matrix is the eignvector associated to the first eignvalue and so on.')\n",
    "print('The normalized eignvectors matrix is:')\n",
    "print(f'{v}')\n",
    "print(f'The eignvalues associated are:')\n",
    "print(f'{abs(w)}')"
   ],
   "metadata": {
    "collapsed": false,
    "pycharm": {
     "name": "#%%\n",
     "is_executing": false
    }
   }
  },
  {
   "cell_type": "markdown",
   "source": [
    "Consider a vector of possible incomes $y = [y_{1} \\space y_{2}]$ and a vector of three possible values for the assets\n",
    "$a = [a_{1} \\space a_{2} \\space a_{3}]$. The joint stationary distribution of endowments of assets and income is given by:\n",
    "$\\phi_{\\infty} = [Pr(y_{1}, a_{1}) \\space Pr(y_{1}, a_{2}) \\space Pr(y_{1}, a_{3}) \\space Pr(y_{2}, a_{1})\n",
    " \\space Pr(y_{2}, a_{2}) \\space Pr(y_{2}, a_{3})]$."
   ],
   "metadata": {
    "collapsed": false,
    "pycharm": {
     "name": "#%% md\n",
     "is_executing": false
    }
   }
  },
  {
   "cell_type": "markdown",
   "source": [
    "Suppose that the policy function is given by $a'(a,y) = a$. Suppose that $Pr(y_{1}, a_{i}) = 0.1$ for all\n",
    "$i \\in {1,2,3}$ and $Pr(y_{2}, a_{1}) = Pr(y_{2}, a_{2}) = 0.2$ and that $Pr(y_{1}, a_{3}) = 0.3$.\n",
    "Compute the aggregate demand for assets, that is:\n",
    "\n",
    "\\begin{equation}\n",
    "E[a] = \\int a'(a,y)d\\phi_{\\infty}\n",
    "\\end{equation} "
   ],
   "metadata": {
    "collapsed": false,
    "pycharm": {
     "name": "#%% md\n"
    }
   }
  },
  {
   "cell_type": "markdown",
   "source": [
    "Defining the vectors:"
   ],
   "metadata": {
    "collapsed": false,
    "pycharm": {
     "name": "#%% md\n"
    }
   }
  },
  {
   "cell_type": "code",
   "execution_count": 36,
   "outputs": [],
   "source": [
    "phi = np.array([[.1, .1, .1], [.2, .2, .3]])"
   ],
   "metadata": {
    "collapsed": false,
    "pycharm": {
     "name": "#%%\n",
     "is_executing": false
    }
   }
  },
  {
   "cell_type": "markdown",
   "source": [
    "Note that the initial income(y) and asset(a) distribution were not defined.We need to do it."
   ],
   "metadata": {
    "collapsed": false,
    "pycharm": {
     "name": "#%% md\n"
    }
   }
  },
  {
   "cell_type": "markdown",
   "source": [
    "Defining state dimensions:"
   ],
   "metadata": {
    "collapsed": false,
    "pycharm": {
     "name": "#%% md\n"
    }
   }
  },
  {
   "cell_type": "code",
   "execution_count": 37,
   "outputs": [],
   "source": [
    "n_y = 2\n",
    "n_a = 3"
   ],
   "metadata": {
    "collapsed": false,
    "pycharm": {
     "name": "#%%\n",
     "is_executing": false
    }
   }
  },
  {
   "cell_type": "markdown",
   "source": [
    "Defining state space:"
   ],
   "metadata": {
    "collapsed": false,
    "pycharm": {
     "name": "#%% md\n",
     "is_executing": false
    }
   }
  },
  {
   "cell_type": "code",
   "execution_count": 38,
   "outputs": [],
   "source": [
    "y_grid = np.linspace(0,1, n_y)\n",
    "a_grid = np.linspace(0,1, n_a)"
   ],
   "metadata": {
    "collapsed": false,
    "pycharm": {
     "name": "#%% \n",
     "is_executing": false
    }
   }
  },
  {
   "cell_type": "markdown",
   "source": [
    "Creating a policy function as defined by the exercise:"
   ],
   "metadata": {
    "collapsed": false,
    "pycharm": {
     "name": "#%% md\n",
     "is_executing": false
    }
   }
  },
  {
   "cell_type": "code",
   "execution_count": 39,
   "outputs": [
    {
     "data": {
      "text/plain": "array([[0. , 0.5, 1. ],\n       [0. , 0.5, 1. ]])"
     },
     "metadata": {},
     "output_type": "execute_result",
     "execution_count": 39
    }
   ],
   "source": [
    "def f_poli(a_grid):\n",
    "    a_line = np.zeros((n_y, n_a))\n",
    "    a_line[0,:] = a_grid\n",
    "    a_line[1,:] = a_grid\n",
    "    \n",
    "    return a_line\n",
    "a_line = f_poli(a_grid)\n",
    "a_line"
   ],
   "metadata": {
    "collapsed": false,
    "pycharm": {
     "name": "#%%\n",
     "is_executing": false
    }
   }
  },
  {
   "cell_type": "markdown",
   "source": [
    "Now we need loop through all income and assets(a line) states defined by the policy functio, \n",
    "but first we will define the initial expected asset distribution as zero and the phi given."
   ],
   "metadata": {
    "collapsed": false,
    "pycharm": {
     "name": "#%% md\n"
    }
   }
  },
  {
   "cell_type": "code",
   "execution_count": 40,
   "outputs": [
    {
     "name": "stdout",
     "text": [
      "0.55\n"
     ],
     "output_type": "stream"
    }
   ],
   "source": [
    "Ea = 0 #Expected asset demand distribution\n",
    "phi = np.array([.1, .1, .1, .2, .2, .3]) #Creating phi\n",
    "#Now looping\n",
    "for i_y in range(n_y):\n",
    "    for i_a in range(n_a):\n",
    "        idx = i_y * n_a + i_a\n",
    "        print(idx)\n",
    "        Ea += a_line[i_y, i_a]*phi[idx]\n",
    "print(Ea)"
   ],
   "metadata": {
    "collapsed": false,
    "pycharm": {
     "name": "#%%\n",
     "is_executing": false
    }
   }
  }
 ],
 "metadata": {
  "kernelspec": {
   "display_name": "Python 3",
   "language": "python",
   "name": "python3"
  },
  "language_info": {
   "codemirror_mode": {
    "name": "ipython",
    "version": 2
   },
   "file_extension": ".py",
   "mimetype": "text/x-python",
   "name": "python",
   "nbconvert_exporter": "python",
   "pygments_lexer": "ipython2",
   "version": "2.7.6"
  },
  "pycharm": {
   "stem_cell": {
    "cell_type": "raw",
    "source": [],
    "metadata": {
     "collapsed": false
    }
   }
  }
 },
 "nbformat": 4,
 "nbformat_minor": 0
}