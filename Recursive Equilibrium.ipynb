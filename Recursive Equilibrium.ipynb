{
 "cells": [
  {
   "cell_type": "markdown",
   "metadata": {
    "collapsed": true,
    "pycharm": {
     "name": "#%% md\n"
    }
   },
   "source": [
    "Consider the standard incomplete markets model and answer the following:"
   ]
  },
  {
   "cell_type": "markdown",
   "metadata": {},
   "source": [
    "Write a python program that returns the recursive competitive equilibrium for a economy with\n",
    "the following parameters:\n",
    "\n",
    "   * intertemporal discount factor($\\beta$) = 0.98;\n",
    "   * CRRA utility function with $\\sigma$ = 2;\n",
    "   * depreciation rate $\\delta$= 0.08;\n",
    "   * production function: $f(K,L) = K^{\\alpha}L^{1-\\alpha}$\n",
    "   * $\\alpha$ = 0.44\n",
    "   * state-transition matrix: \n",
    "   * $\\pi(y'|y)=$ $$\\begin{bmatrix} 0.4 & 0.5 & 0.1 \\\\ 0.3 & 0.2 & 0.5 \\\\ 0.2 & 0.4 & 0.4 \\end{bmatrix}$$."
   ]
  },
  {
   "cell_type": "markdown",
   "metadata": {},
   "source": [
    "Answer:"
   ]
  },
  {
   "cell_type": "markdown",
   "metadata": {
    "pycharm": {
     "name": "#%% md\n"
    }
   },
   "source": [
    "Importing modules"
   ]
  },
  {
   "cell_type": "code",
   "execution_count": 1,
   "metadata": {
    "pycharm": {
     "is_executing": false,
     "name": "#%%\n"
    }
   },
   "outputs": [],
   "source": [
    "import numpy as np"
   ]
  },
  {
   "cell_type": "markdown",
   "metadata": {},
   "source": [
    "The recursive problem is a little different than we were doing so far. A stationary recursive competitive equilibrium\n",
    "is a value function $v:Z \\times M \\rightarrow \\mathbb{R} $, policy function $a': Z \\rightarrow \\mathbb{R}$ and\n",
    "consumption $c: Z \\rightarrow \\mathbb{R}$, policy functions for the firm $K$ and $L$, prices $r,w$ and a mesure \n",
    "$\\phi \\in M$ such that:\n",
    "* $v,a', c$ are mesurable with respect to $B(Z)$, v satisfies the household Bellman's equation:\n",
    "* $v(a,y,\\phi)$ = $max_{c\\geq 0, a' \\geq 0}$ $(U(c) + \\beta \\sum_{y \\in Y} \\pi(y'|y)v(a', y';\\phi))$\n",
    "s.t $c + a' = wy + (1+r)a$ where $a',c$ are the associated policy functions for a given r and w.\n",
    "* $K, L$ satisfy, given $r$ and $w$:\n",
    "* $r =$ $F_{k}(K,L)$ - $\\delta$\n",
    "* $w =$ $F_{L}(K, L)$\n",
    "* $K' \\equiv a'(a,y) d\\phi = K$ (because its stationary)\n",
    "* $L$ = $\\int y $d$\\phi$\n",
    "* $\\int c(a,y,\\phi)d\\phi$ + $\\int a'(a,y,\\phi)d\\phi$ = $F[K(\\phi), L(\\phi)] + (1-\\delta)K(\\phi)$"
   ]
  },
  {
   "cell_type": "markdown",
   "metadata": {},
   "source": [
    "When something appears with a line e.g: $a'$ it stands for the future value of this parameter in this\n",
    "case, tomorrow assets distribution. Every future distribution is defined by the associated policy function \n",
    "for that variable. $r$ is the interest rate, $w$ is the wage, $K$ and $L$ are the capital stock and labor supply \n",
    "respectively."
   ]
  },
  {
   "cell_type": "markdown",
   "metadata": {},
   "source": [
    "Now we will solve this problem for case asked. We already know that for the standard CRRA utility function we have:\n",
    "$u(c) = \\frac{c^{1-\\delta}-1}{1-\\delta}$. But now $\\delta$ stands for depreciation rate and our risk aversion turned \n",
    "in $\\sigma$ so now we have, $u(c) = \\frac{c^{1-\\sigma}-1}{1-\\sigma}$."
   ]
  },
  {
   "cell_type": "code",
   "execution_count": 2,
   "metadata": {
    "pycharm": {
     "is_executing": false,
     "name": "#%% \n"
    }
   },
   "outputs": [],
   "source": [
    "def util_func(x):\n",
    "    return (x**(1-sigma))/(1-sigma)"
   ]
  },
  {
   "cell_type": "markdown",
   "metadata": {},
   "source": [
    "Note that we didn't defined $\\sigma$ , we will it next. We will create a function that assigns values for the parameters\n",
    "needed to solve the equilibrium."
   ]
  },
  {
   "cell_type": "code",
   "execution_count": 3,
   "metadata": {
    "pycharm": {
     "is_executing": false,
     "name": "#%%\n"
    }
   },
   "outputs": [],
   "source": [
    "def parameters_objects():\n",
    "    global beta, sigma,delta,alpha,pi,y_domain, a_domain, V, iG, n_y, n_a, w,r\n",
    "    beta = 0.98\n",
    "    sigma = 2\n",
    "    delta = 0.08\n",
    "    alpha = 0.44\n",
    "    pi = np.array([[0.4 , 0.5 , 0.1], \n",
    "                   [0.3 , 0.2 , 0.5 ], \n",
    "                   [0.2 , 0.4 , 0.4]])\n",
    "    r = 0.05 #we will need some interest rate to maximize our objective function\n",
    "    w = 1 #we will need the wage too\n",
    "    # the income domain was not defined we will create one to make sure our program works properly \n",
    "    y_min = 1e-2\n",
    "    y_max = 1\n",
    "    n_y = len(pi) #must have one income for each state\n",
    "    y_domain = np.linspace(y_min , y_max, n_y)\n",
    "    # neither the assets domain was defined\n",
    "    a_max = 10\n",
    "    n_a = 9 #three assets distributions for each income state\n",
    "    # we need a non-Ponzi condition for this case\n",
    "    barA = 0 # no borrow allowed\n",
    "    a_domain = np.linspace(-barA, a_max, n_a)\n",
    "    \n",
    "    #Now we just neeed some place to store our value function and policy function\n",
    "    V = np.zeros((n_y, n_a)) #value\n",
    "    iG = np.zeros((n_y, n_a), dtype = np.int) #policy  \n",
    " \n",
    "    "
   ]
  },
  {
   "cell_type": "markdown",
   "metadata": {},
   "source": [
    "Now we need to build our objective function: $U(c) + \\beta \\sum_{y \\in Y} \\pi(y'|y)v(a', y';\\phi)$"
   ]
  },
  {
   "cell_type": "code",
   "execution_count": 4,
   "metadata": {
    "pycharm": {
     "is_executing": false,
     "name": "#%% \n"
    }
   },
   "outputs": [],
   "source": [
    "def build_objective(V):\n",
    "    global n_y, n_a, w, r\n",
    "    F_OBJ = np.zeros((n_y, n_a, n_a)) #one dimension to each income, asset, and future asset\n",
    "    #looping through all income, assets and future assets\n",
    "    for i_y in range(n_y):\n",
    "        y = y_domain[i_y]\n",
    "        for i_a in range(n_a):\n",
    "            a = a_domain[i_a]\n",
    "            for i_a_line in range(n_a): #i_a_line stands for future assets\n",
    "                aa = a_domain[i_a_line]\n",
    "                c = w*y + a - aa/(1+r) #consumption \n",
    "                if c <= 0:\n",
    "                    F_OBJ[i_y, i_a, i_a_line] = -np.inf\n",
    "                else:\n",
    "                    F_OBJ[i_y, i_a, i_a_line] = util_func(c) + beta*(np.dot(pi[i_y, :],V[:, i_a_line]))\n",
    "    return F_OBJ"
   ]
  },
  {
   "cell_type": "markdown",
   "metadata": {
    "pycharm": {
     "name": "#%% md\n"
    }
   },
   "source": [
    "Solving the problem:"
   ]
  },
  {
   "cell_type": "code",
   "execution_count": 5,
   "metadata": {
    "pycharm": {
     "is_executing": false,
     "name": "#%%\n"
    }
   },
   "outputs": [],
   "source": [
    "def maximize_TV_IG(F_OBJ):\n",
    "    #maximizing for time t\n",
    "    TV = np.zeros((n_y, n_a))\n",
    "    T_iG = np.zeros((n_y, n_a), dtype = np.int)\n",
    "    for i_y, y in enumerate(y_domain):\n",
    "        for i_a, a in enumerate(a_domain):\n",
    "            TV[i_y, i_a] = np.max(F_OBJ[i_y, i_a, :]) # max value of f_obj \n",
    "            T_iG[i_y, i_a] = np.argmax(F_OBJ[i_y, i_a, :]) # position associated to (y,a) pair that maximizes F_OBJ\n",
    "    return TV, T_iG"
   ]
  },
  {
   "cell_type": "markdown",
   "metadata": {
    "pycharm": {
     "name": "#%% md\n"
    }
   },
   "source": [
    "Computing the stationary state: "
   ]
  },
  {
   "cell_type": "code",
   "execution_count": 6,
   "metadata": {
    "pycharm": {
     "is_executing": false,
     "name": "#%%\n"
    }
   },
   "outputs": [],
   "source": [
    "def compute_V_G_est():\n",
    "    global V\n",
    "    norm, tol = 2, 1e-7\n",
    "    while norm>tol:\n",
    "        F_OBJ = build_objective(V)\n",
    "        TV, T_iG = maximize_TV_IG(F_OBJ)\n",
    "        norm = np.max(abs(TV - V))\n",
    "        V = np.copy(TV)\n",
    "        iG = np.copy(T_iG)\n",
    "    return V, iG      "
   ]
  },
  {
   "cell_type": "markdown",
   "metadata": {
    "pycharm": {
     "name": "#%% md\n"
    }
   },
   "source": [
    "Now we will introduce future assets and heterogeneity, introducing an endogenous transition matrix function:"
   ]
  },
  {
   "cell_type": "code",
   "execution_count": 7,
   "metadata": {
    "pycharm": {
     "is_executing": false,
     "name": "#%%\n"
    }
   },
   "outputs": [],
   "source": [
    "def compute_Q(iG):\n",
    "    #This function gives a markov transition function, Q_{r} to compute, a stationary measure phi_{r}\n",
    "    #associated associated to this transition function\n",
    "    Q = np.zeros((n_y*n_a, n_y*n_a))\n",
    "    for i_y in range(n_y):\n",
    "        for i_a in range(n_a):\n",
    "            c_state = i_y*n_a + i_a\n",
    "            for i_y_line in range(n_y):\n",
    "                for i_a_line in range(n_a):\n",
    "                    n_state = i_y_line*n_a + i_a_line\n",
    "                    if iG[i_y, i_a] == i_a_line:\n",
    "                        Q[c_state, n_state] += pi[i_y, i_y_line]\n",
    "    return Q"
   ]
  },
  {
   "cell_type": "markdown",
   "metadata": {
    "pycharm": {
     "name": "#%% md\n"
    }
   },
   "source": [
    "Now we compute $\\phi_{r}$"
   ]
  },
  {
   "cell_type": "code",
   "execution_count": 8,
   "metadata": {
    "pycharm": {
     "is_executing": false,
     "name": "#%%\n"
    }
   },
   "outputs": [],
   "source": [
    "def compute_phi(Q):\n",
    "    global phi\n",
    "    phi = np.ones(n_y*n_a) / (n_y*n_a)\n",
    "    norm_Q, tol_Q = 1, 1e-6\n",
    "    while norm_Q > tol_Q:\n",
    "        T_phi = np.dot(phi, Q)\n",
    "        norm_Q = max(abs(T_phi - phi))\n",
    "        phi = T_phi/sum(T_phi)\n",
    "    return phi"
   ]
  },
  {
   "cell_type": "markdown",
   "metadata": {
    "pycharm": {
     "name": "#%% md\n"
    }
   },
   "source": [
    "We need a few more things to compute the equilibrium:"
   ]
  },
  {
   "cell_type": "code",
   "execution_count": 9,
   "metadata": {
    "pycharm": {
     "is_executing": false,
     "name": "#%%\n"
    }
   },
   "outputs": [],
   "source": [
    "# Expected savings(assets)\n",
    "def compute_Ea(phi):\n",
    "    Ea = 0\n",
    "    for i_y in range(n_y):\n",
    "        for i_a in range(n_a):\n",
    "            s_index = iG[i_y, i_a] \n",
    "            savings = a_domain[s_index] \n",
    "            t_index = i_y * n_a + i_a\n",
    "            size = phi[t_index]\n",
    "            Ea += savings*size\n",
    "    return Ea"
   ]
  },
  {
   "cell_type": "markdown",
   "metadata": {
    "pycharm": {
     "name": "#%% md\n"
    }
   },
   "source": [
    "Labor supply"
   ]
  },
  {
   "cell_type": "code",
   "execution_count": 10,
   "metadata": {
    "pycharm": {
     "is_executing": false,
     "name": "#%% \n"
    }
   },
   "outputs": [],
   "source": [
    "def compute_L():\n",
    "    L = 0\n",
    "    for i_y in range(n_y):\n",
    "        for i_a in range(n_a):\n",
    "            labor_supply = y_domain[i_y]\n",
    "            t_index = i_y*n_a + i_a\n",
    "            size_l = phi[t_index]\n",
    "            L += labor_supply*size_l\n",
    "    return L"
   ]
  },
  {
   "cell_type": "markdown",
   "metadata": {
    "pycharm": {
     "name": "#%% md\n"
    }
   },
   "source": [
    "The production function is $f(K,L) = K^{\\alpha}L^{1-\\alpha}$. As we've seen: \n",
    "\\begin{equation}\n",
    "r = F_{k}(K,L) - \\delta\n",
    "\\end{equation}\n",
    "So: \n",
    "\\begin{equation}\n",
    "k = (\\alpha/(r+\\delta))^{(1/(1-\\alpha)}\n",
    "\\end{equation}."
   ]
  },
  {
   "cell_type": "code",
   "execution_count": 11,
   "metadata": {
    "pycharm": {
     "is_executing": false,
     "name": "#%%\n"
    }
   },
   "outputs": [],
   "source": [
    "def compute_k(r):\n",
    "    k =(alpha/(r+delta))**(1/(1-alpha))\n",
    "    return k "
   ]
  },
  {
   "cell_type": "markdown",
   "metadata": {
    "pycharm": {
     "name": "#%% md\n"
    }
   },
   "source": [
    "Similarly:\n",
    "\\begin{equation}\n",
    "w = (1-\\alpha) \\times (k^{\\alpha})\n",
    "\\end{equation}"
   ]
  },
  {
   "cell_type": "code",
   "execution_count": 12,
   "metadata": {
    "pycharm": {
     "is_executing": false,
     "name": "#%%\n"
    }
   },
   "outputs": [],
   "source": [
    "def compute_w(k):\n",
    "    w = (1-alpha)*(k**alpha)\n",
    "    return w"
   ]
  },
  {
   "cell_type": "markdown",
   "metadata": {
    "pycharm": {
     "name": "#%% md\n"
    }
   },
   "source": [
    "When we reach the equilibrium there should be no excess demand :\n",
    "$d = K - E(a) = 0$. And finally we can compute the equilibrium."
   ]
  },
  {
   "cell_type": "code",
   "execution_count": 13,
   "metadata": {
    "pycharm": {
     "is_executing": false,
     "name": "#%%\n"
    }
   },
   "outputs": [],
   "source": [
    "def compute_d(phi):\n",
    "    k = compute_k(r)\n",
    "    L = compute_L()\n",
    "    K = k*L\n",
    "    ea = compute_Ea(phi)\n",
    "    d = K - ea\n",
    "    return d"
   ]
  },
  {
   "cell_type": "code",
   "execution_count": 14,
   "metadata": {
    "pycharm": {
     "is_executing": false,
     "name": "#%%\n"
    }
   },
   "outputs": [],
   "source": [
    "def compute_equilibrium():\n",
    "    global r, w, V, iG, Q, phi, L, k\n",
    "    rho = beta**(-1)-1\n",
    "    r_1, r_2 = -delta, rho #interest rate domain.\n",
    "    norm_r, tol_r = 1, 1e-10\n",
    "    while norm_r>tol_r:\n",
    "        r = (r_1+r_2)/2\n",
    "        k = compute_k(r)\n",
    "        V, iG = compute_V_G_est()\n",
    "        Q = compute_Q(iG)    \n",
    "        phi = compute_phi(Q)    \n",
    "        d = compute_d(phi)\n",
    "        if d>0:\n",
    "            r_1 = r\n",
    "        elif d<0:\n",
    "            r_2 = r\n",
    "        norm_r = abs(r_1-r_2)\n",
    "        #printing the interest rate at each step \n",
    "        print('[d,r_L,r_H,norm]=[{:9.6f},{:9.6f},{:9.6f},{:9.6f}]'.format(d,r_1,r_2,norm_r))"
   ]
  },
  {
   "cell_type": "code",
   "execution_count": 15,
   "metadata": {
    "pycharm": {
     "is_executing": false,
     "name": "#%%\n"
    }
   },
   "outputs": [
    {
     "name": "stderr",
     "output_type": "stream",
     "text": [
      "<ipython-input-3-8bad40f2643f>:26: DeprecationWarning: `np.int` is a deprecated alias for the builtin `int`. To silence this warning, use `int` by itself. Doing this will not modify any behavior and is safe. When replacing `np.int`, you may wish to use e.g. `np.int64` or `np.int32` to specify the precision. If you wish to review your current use, check the release note link for additional information.\n",
      "Deprecated in NumPy 1.20; for more details and guidance: https://numpy.org/devdocs/release/1.20.0-notes.html#deprecations\n",
      "  iG = np.zeros((n_y, n_a), dtype = np.int) #policy\n",
      "<ipython-input-5-d39ec0f74c3b>:4: DeprecationWarning: `np.int` is a deprecated alias for the builtin `int`. To silence this warning, use `int` by itself. Doing this will not modify any behavior and is safe. When replacing `np.int`, you may wish to use e.g. `np.int64` or `np.int32` to specify the precision. If you wish to review your current use, check the release note link for additional information.\n",
      "Deprecated in NumPy 1.20; for more details and guidance: https://numpy.org/devdocs/release/1.20.0-notes.html#deprecations\n",
      "  T_iG = np.zeros((n_y, n_a), dtype = np.int)\n"
     ]
    },
    {
     "name": "stdout",
     "output_type": "stream",
     "text": [
      "[d,r_L,r_H,norm]=[25.618551,-0.029796, 0.020408, 0.050204]\n",
      "[d,r_L,r_H,norm]=[12.419544,-0.004694, 0.020408, 0.025102]\n",
      "[d,r_L,r_H,norm]=[ 4.430990, 0.007857, 0.020408, 0.012551]\n",
      "[d,r_L,r_H,norm]=[ 3.337801, 0.014133, 0.020408, 0.006276]\n",
      "[d,r_L,r_H,norm]=[ 2.863614, 0.017270, 0.020408, 0.003138]\n",
      "[d,r_L,r_H,norm]=[ 2.642114, 0.018839, 0.020408, 0.001569]\n",
      "[d,r_L,r_H,norm]=[ 2.534993, 0.019624, 0.020408, 0.000784]\n",
      "[d,r_L,r_H,norm]=[ 2.482308, 0.020016, 0.020408, 0.000392]\n",
      "[d,r_L,r_H,norm]=[ 2.456181, 0.020212, 0.020408, 0.000196]\n",
      "[d,r_L,r_H,norm]=[ 2.443171, 0.020310, 0.020408, 0.000098]\n",
      "[d,r_L,r_H,norm]=[ 2.436679, 0.020359, 0.020408, 0.000049]\n",
      "[d,r_L,r_H,norm]=[ 2.433436, 0.020384, 0.020408, 0.000025]\n",
      "[d,r_L,r_H,norm]=[ 2.431816, 0.020396, 0.020408, 0.000012]\n",
      "[d,r_L,r_H,norm]=[ 2.431006, 0.020402, 0.020408, 0.000006]\n",
      "[d,r_L,r_H,norm]=[ 2.430601, 0.020405, 0.020408, 0.000003]\n",
      "[d,r_L,r_H,norm]=[ 2.430398, 0.020407, 0.020408, 0.000002]\n",
      "[d,r_L,r_H,norm]=[ 2.430297, 0.020407, 0.020408, 0.000001]\n",
      "[d,r_L,r_H,norm]=[ 2.430246, 0.020408, 0.020408, 0.000000]\n",
      "[d,r_L,r_H,norm]=[ 2.430221, 0.020408, 0.020408, 0.000000]\n",
      "[d,r_L,r_H,norm]=[ 2.430208, 0.020408, 0.020408, 0.000000]\n",
      "[d,r_L,r_H,norm]=[ 2.430202, 0.020408, 0.020408, 0.000000]\n",
      "[d,r_L,r_H,norm]=[ 2.430199, 0.020408, 0.020408, 0.000000]\n",
      "[d,r_L,r_H,norm]=[ 2.430197, 0.020408, 0.020408, 0.000000]\n",
      "[d,r_L,r_H,norm]=[ 2.430197, 0.020408, 0.020408, 0.000000]\n",
      "[d,r_L,r_H,norm]=[ 2.430196, 0.020408, 0.020408, 0.000000]\n",
      "[d,r_L,r_H,norm]=[ 2.430196, 0.020408, 0.020408, 0.000000]\n",
      "[d,r_L,r_H,norm]=[ 2.430196, 0.020408, 0.020408, 0.000000]\n",
      "[d,r_L,r_H,norm]=[ 2.430196, 0.020408, 0.020408, 0.000000]\n",
      "[d,r_L,r_H,norm]=[ 2.430196, 0.020408, 0.020408, 0.000000]\n",
      "[d,r_L,r_H,norm]=[ 2.430196, 0.020408, 0.020408, 0.000000]\n"
     ]
    }
   ],
   "source": [
    "parameters_objects()\n",
    "compute_equilibrium()"
   ]
  },
  {
   "cell_type": "markdown",
   "metadata": {},
   "source": [
    "Describe how the equilibrium interest rate depends of the intertemporal discount factor,𝛽, and intertemporal substitution/risk aversion, 𝜎."
   ]
  },
  {
   "cell_type": "markdown",
   "metadata": {},
   "source": [
    "Answer:(Change $/beta$  and see what happens)"
   ]
  },
  {
   "cell_type": "markdown",
   "metadata": {},
   "source": [
    "When 𝛽=0.98, the equilibrium interest rate is 2.04, which is the same as 𝜌. Now, the agent became, impatient thus the his respective beta became lower. That is, in order to the agent give up present consumption, he needs to be compensated, in the intertemporal budget constraint context that means the equilibrium interest rate needs to be greater than before. So the respective interest rate equilibrium is about 5,9 which is a big increase compared to the variation of the betas. "
   ]
  }
 ],
 "metadata": {
  "kernelspec": {
   "display_name": "Python 3",
   "language": "python",
   "name": "python3"
  },
  "language_info": {
   "codemirror_mode": {
    "name": "ipython",
    "version": 3
   },
   "file_extension": ".py",
   "mimetype": "text/x-python",
   "name": "python",
   "nbconvert_exporter": "python",
   "pygments_lexer": "ipython3",
   "version": "3.9.2"
  },
  "pycharm": {
   "stem_cell": {
    "cell_type": "raw",
    "metadata": {
     "collapsed": false
    },
    "source": []
   }
  }
 },
 "nbformat": 4,
 "nbformat_minor": 1
}
