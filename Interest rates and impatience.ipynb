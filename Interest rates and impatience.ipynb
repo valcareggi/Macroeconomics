{
 "cells": [
  {
   "cell_type": "markdown",
   "source": [
    "Describe how the equilibrium interest rate depends of the intertemporal discount factor,$\\beta$, \n",
    "and intertemporal substitution/risk aversion, $\\sigma$."
   ],
   "metadata": {
    "collapsed": false,
    "pycharm": {
     "name": "#%% md\n"
    }
   }
  },
  {
   "cell_type": "code",
   "execution_count": 20,
   "outputs": [],
   "source": [
    "import numpy as np"
   ],
   "metadata": {
    "collapsed": false,
    "pycharm": {
     "name": "#%%\n",
     "is_executing": false
    }
   }
  },
  {
   "cell_type": "code",
   "execution_count": 21,
   "outputs": [],
   "source": [
    "def util_func(x):\n",
    "    return (x**(1-sigma))/(1-sigma)"
   ],
   "metadata": {
    "collapsed": false,
    "pycharm": {
     "name": "#%%\n",
     "is_executing": false
    }
   }
  },
  {
   "cell_type": "code",
   "execution_count": 68,
   "outputs": [],
   "source": [
    "def parameters_objects():\n",
    "    global beta, sigma,delta,alpha,pi,y_domain, a_domain, V, iG, n_y, n_a, w,r\n",
    "    beta = 0.90\n",
    "    sigma = 2\n",
    "    delta = 0.08\n",
    "    alpha = 0.44\n",
    "    pi = np.array([[0.4 , 0.5 , 0.1], \n",
    "                   [0.3 , 0.2 , 0.5 ], \n",
    "                   [0.2 , 0.4 , 0.4]])\n",
    "    r = 0.05 #we will need some interest rate to maximize our objective function\n",
    "    w = 1 #we will need the wage too\n",
    "    # the income domain was not defined we will crete one to make our program works properly \n",
    "    y_min = 1e-2\n",
    "    y_max = 1\n",
    "    n_y = len(pi) #must have one income for each state\n",
    "    y_domain = np.linspace(y_min , y_max, n_y)\n",
    "    # neither the assets domain was defined\n",
    "    a_max = 10\n",
    "    n_a = 9 #three assets distributions for each income state\n",
    "    # we need a non-Ponzi condition for this case\n",
    "    barA = 0 # no borrow allowed\n",
    "    a_domain = np.linspace(-barA, a_max, n_a)\n",
    "    \n",
    "    #Now we just neeed some place to store our value function and policy function\n",
    "    V = np.zeros((n_y, n_a)) #value\n",
    "    iG = np.zeros((n_y, n_a), dtype = np.int)"
   ],
   "metadata": {
    "collapsed": false,
    "pycharm": {
     "name": "#%%\n",
     "is_executing": false
    }
   }
  },
  {
   "cell_type": "code",
   "execution_count": 23,
   "outputs": [],
   "source": [
    "def build_objective(V):\n",
    "    global n_y, n_a, w, r\n",
    "    F_OBJ = np.zeros((n_y, n_a, n_a)) #one dimension to each income, asset, and future asset\n",
    "    #looping through all income, assets and future assets\n",
    "    for i_y in range(n_y):\n",
    "        y = y_domain[i_y]\n",
    "        for i_a in range(n_a):\n",
    "            a = a_domain[i_a]\n",
    "            for i_a_line in range(n_a): #i_a_line stands for future assets\n",
    "                aa = a_domain[i_a_line]\n",
    "                c = w*y + a - aa/(1+r) #consumption \n",
    "                if c <= 0:\n",
    "                    F_OBJ[i_y, i_a, i_a_line] = -np.inf\n",
    "                else:\n",
    "                    F_OBJ[i_y, i_a, i_a_line] = util_func(c) + beta*(np.dot(pi[i_y, :],V[:, i_a_line]))\n",
    "    return F_OBJ"
   ],
   "metadata": {
    "collapsed": false,
    "pycharm": {
     "name": "#%%\n",
     "is_executing": false
    }
   }
  },
  {
   "cell_type": "code",
   "execution_count": 24,
   "outputs": [],
   "source": [
    "def maximize_TV_IG(F_OBJ):\n",
    "    #maximizing for time t\n",
    "    TV = np.zeros((n_y, n_a))\n",
    "    T_iG = np.zeros((n_y, n_a), dtype = np.int)\n",
    "    for i_y, y in enumerate(y_domain):\n",
    "        for i_a, a in enumerate(a_domain):\n",
    "            TV[i_y, i_a] = np.max(F_OBJ[i_y, i_a, :]) # max value of f_obj \n",
    "            T_iG[i_y, i_a] = np.argmax(F_OBJ[i_y, i_a, :]) # position associated to (y,a) pair that maximizes F_OBJ\n",
    "    return TV, T_iG"
   ],
   "metadata": {
    "collapsed": false,
    "pycharm": {
     "name": "#%%\n",
     "is_executing": false
    }
   }
  },
  {
   "cell_type": "code",
   "execution_count": 25,
   "outputs": [],
   "source": [
    "def compute_V_G_est():\n",
    "    global V\n",
    "    norm, tol = 2, 1e-7\n",
    "    while norm>tol:\n",
    "        F_OBJ = build_objective(V)\n",
    "        TV, T_iG = maximize_TV_IG(F_OBJ)\n",
    "        norm = np.max(abs(TV - V))\n",
    "        V = np.copy(TV)\n",
    "        iG = np.copy(T_iG)\n",
    "    return V, iG      "
   ],
   "metadata": {
    "collapsed": false,
    "pycharm": {
     "name": "#%%\n",
     "is_executing": false
    }
   }
  },
  {
   "cell_type": "code",
   "execution_count": 26,
   "outputs": [],
   "source": [
    "def compute_Q(iG):\n",
    "    #This function gives a markov transition function, Q_{r} to compute, a stationary measure phi_{r}\n",
    "    #associated associated to this transition function\n",
    "    Q = np.zeros((n_y*n_a, n_y*n_a))\n",
    "    for i_y in range(n_y):\n",
    "        for i_a in range(n_a):\n",
    "            c_state = i_y*n_a + i_a\n",
    "            for i_y_line in range(n_y):\n",
    "                for i_a_line in range(n_a):\n",
    "                    n_state = i_y_line*n_a + i_a_line\n",
    "                    if iG[i_y, i_a] == i_a_line:\n",
    "                        Q[c_state, n_state] += pi[i_y, i_y_line]\n",
    "    return Q"
   ],
   "metadata": {
    "collapsed": false,
    "pycharm": {
     "name": "#%%\n",
     "is_executing": false
    }
   }
  },
  {
   "cell_type": "code",
   "execution_count": 27,
   "outputs": [],
   "source": [
    "def compute_phi(Q):\n",
    "    global phi\n",
    "    phi = np.ones(n_y*n_a) / (n_y*n_a)\n",
    "    norm_Q, tol_Q = 1, 1e-6\n",
    "    while norm_Q > tol_Q:\n",
    "        T_phi = np.dot(phi, Q)\n",
    "        norm_Q = max(abs(T_phi - phi))\n",
    "        phi = np.copy(T_phi)\n",
    "    return phi"
   ],
   "metadata": {
    "collapsed": false,
    "pycharm": {
     "name": "#%%\n",
     "is_executing": false
    }
   }
  },
  {
   "cell_type": "code",
   "execution_count": 28,
   "outputs": [],
   "source": [
    "def compute_Ea(phi):\n",
    "    Ea = 0\n",
    "    for i_y in range(n_y):\n",
    "        for i_a in range(n_a):\n",
    "            s_index = iG[i_y, i_a] \n",
    "            savings = a_domain[s_index] \n",
    "            t_index = i_y * n_a + i_a\n",
    "            size = phi[t_index]\n",
    "            Ea += savings*size\n",
    "    return Ea"
   ],
   "metadata": {
    "collapsed": false,
    "pycharm": {
     "name": "#%%\n",
     "is_executing": false
    }
   }
  },
  {
   "cell_type": "code",
   "execution_count": 29,
   "outputs": [],
   "source": [
    "def compute_L():\n",
    "    L = 0\n",
    "    for i_y in range(n_y):\n",
    "        for i_a in range(n_a):\n",
    "            labor_supply = y_domain[i_y]\n",
    "            t_index = i_y*n_a + i_a\n",
    "            size_l = phi[t_index]\n",
    "            L += labor_supply*size_l\n",
    "    return L"
   ],
   "metadata": {
    "collapsed": false,
    "pycharm": {
     "name": "#%%\n",
     "is_executing": false
    }
   }
  },
  {
   "cell_type": "code",
   "execution_count": 30,
   "outputs": [],
   "source": [
    "def compute_k(r):\n",
    "    k =(alpha/(r+delta))**(1/(1-alpha))\n",
    "    return k "
   ],
   "metadata": {
    "collapsed": false,
    "pycharm": {
     "name": "#%%\n",
     "is_executing": false
    }
   }
  },
  {
   "cell_type": "code",
   "execution_count": 31,
   "outputs": [],
   "source": [
    "def compute_w(k):\n",
    "    w = (1-alpha)*(k**alpha)\n",
    "    return w"
   ],
   "metadata": {
    "collapsed": false,
    "pycharm": {
     "name": "#%%\n",
     "is_executing": false
    }
   }
  },
  {
   "cell_type": "code",
   "execution_count": 32,
   "outputs": [],
   "source": [
    "def compute_d(phi):\n",
    "    k = compute_k(r)\n",
    "    L = compute_L()\n",
    "    K = k*L\n",
    "    ea = compute_Ea(phi)\n",
    "    d = K - ea\n",
    "    return d"
   ],
   "metadata": {
    "collapsed": false,
    "pycharm": {
     "name": "#%%\n",
     "is_executing": false
    }
   }
  },
  {
   "cell_type": "code",
   "execution_count": 66,
   "outputs": [],
   "source": [
    "def compute_equilibrium():\n",
    "    global r, w, V, iG, Q, phi, L, k\n",
    "    rho = beta**(-1)-1\n",
    "    r_1, r_2 = -delta, rho\n",
    "    norm_r, tol_r = 1, 1e-10\n",
    "    while norm_r>tol_r:\n",
    "        r = (r_1+r_2)/2\n",
    "        k = compute_k(r)\n",
    "        V, iG = compute_V_G_est()\n",
    "        Q = compute_Q(iG)    \n",
    "        phi = compute_phi(Q)    \n",
    "        d = compute_d(phi)\n",
    "        if d>0:\n",
    "            r_1 = r\n",
    "        elif d<0:\n",
    "            r_2 = r\n",
    "        norm_r = abs(r_1-r_2)\n",
    "        print('[d,r_L,r_H,norm]=[{:9.6f},{:9.6f},{:9.6f},{:9.6f}]'.format(d,r_1,r_2,norm_r))\n",
    "        "
   ],
   "metadata": {
    "collapsed": false,
    "pycharm": {
     "name": "#%%\n",
     "is_executing": false
    }
   }
  },
  {
   "cell_type": "code",
   "execution_count": 69,
   "outputs": [
    {
     "name": "stdout",
     "text": [
      "O capital de equilíbrio  para essa taxa de juros é 15.285508234945167\n",
      "[d,r_L,r_H,norm]=[ 5.200731, 0.015556, 0.111111, 0.095556]\n",
      "O capital de equilíbrio  para essa taxa de juros é 7.410221785681968\n",
      "[d,r_L,r_H,norm]=[-0.648122, 0.015556, 0.063333, 0.047778]\n",
      "O capital de equilíbrio  para essa taxa de juros é 10.261864804092587\n",
      "[d,r_L,r_H,norm]=[ 1.838470, 0.039444, 0.063333, 0.023889]\n",
      "O capital de equilíbrio  para essa taxa de juros é 8.655871080723847\n",
      "[d,r_L,r_H,norm]=[ 0.430048, 0.051389, 0.063333, 0.011944]\n",
      "O capital de equilíbrio  para essa taxa de juros é 7.995346467855122\n",
      "[d,r_L,r_H,norm]=[ 0.079274, 0.057361, 0.063333, 0.005972]\n",
      "O capital de equilíbrio  para essa taxa de juros é 7.694114939130894\n",
      "[d,r_L,r_H,norm]=[-0.080695, 0.057361, 0.060347, 0.002986]\n",
      "O capital de equilíbrio  para essa taxa de juros é 7.8424750020861955\n",
      "[d,r_L,r_H,norm]=[-0.001908, 0.057361, 0.058854, 0.001493]\n",
      "O capital de equilíbrio  para essa taxa de juros é 7.918335257752005\n",
      "[d,r_L,r_H,norm]=[ 0.038377, 0.058108, 0.058854, 0.000747]\n",
      "O capital de equilíbrio  para essa taxa de juros é 7.880262727885842\n",
      "[d,r_L,r_H,norm]=[ 0.018159, 0.058481, 0.058854, 0.000373]\n",
      "O capital de equilíbrio  para essa taxa de juros é 7.861333445820365\n",
      "[d,r_L,r_H,norm]=[ 0.008106, 0.058668, 0.058854, 0.000187]\n",
      "O capital de equilíbrio  para essa taxa de juros é 7.851895391702067\n",
      "[d,r_L,r_H,norm]=[ 0.003094, 0.058761, 0.058854, 0.000093]\n",
      "O capital de equilíbrio  para essa taxa de juros é 7.8471829916409215\n",
      "[d,r_L,r_H,norm]=[ 0.000592, 0.058808, 0.058854, 0.000047]\n",
      "O capital de equilíbrio  para essa taxa de juros é 7.84482844590096\n",
      "[d,r_L,r_H,norm]=[-0.000659, 0.058808, 0.058831, 0.000023]\n",
      "O capital de equilíbrio  para essa taxa de juros é 7.846005580986476\n",
      "[d,r_L,r_H,norm]=[-0.000033, 0.058808, 0.058819, 0.000012]\n",
      "O capital de equilíbrio  para essa taxa de juros é 7.846594251862102\n",
      "[d,r_L,r_H,norm]=[ 0.000279, 0.058813, 0.058819, 0.000006]\n",
      "O capital de equilíbrio  para essa taxa de juros é 7.8462999078120745\n",
      "[d,r_L,r_H,norm]=[ 0.000123, 0.058816, 0.058819, 0.000003]\n",
      "O capital de equilíbrio  para essa taxa de juros é 7.846152742246307\n",
      "[d,r_L,r_H,norm]=[ 0.000045, 0.058818, 0.058819, 0.000001]\n",
      "O capital de equilíbrio  para essa taxa de juros é 7.84607916107816\n",
      "[d,r_L,r_H,norm]=[ 0.000006, 0.058818, 0.058819, 0.000001]\n",
      "O capital de equilíbrio  para essa taxa de juros é 7.846042370897761\n",
      "[d,r_L,r_H,norm]=[-0.000014, 0.058818, 0.058819, 0.000000]\n",
      "O capital de equilíbrio  para essa taxa de juros é 7.846060765954322\n",
      "[d,r_L,r_H,norm]=[-0.000004, 0.058818, 0.058819, 0.000000]\n",
      "O capital de equilíbrio  para essa taxa de juros é 7.846069963507832\n",
      "[d,r_L,r_H,norm]=[ 0.000001, 0.058819, 0.058819, 0.000000]\n",
      "O capital de equilíbrio  para essa taxa de juros é 7.8460653647289735\n",
      "[d,r_L,r_H,norm]=[-0.000002, 0.058819, 0.058819, 0.000000]\n",
      "O capital de equilíbrio  para essa taxa de juros é 7.8460676641178795\n",
      "[d,r_L,r_H,norm]=[-0.000001, 0.058819, 0.058819, 0.000000]\n",
      "O capital de equilíbrio  para essa taxa de juros é 7.846068813812723\n",
      "[d,r_L,r_H,norm]=[ 0.000000, 0.058819, 0.058819, 0.000000]\n",
      "O capital de equilíbrio  para essa taxa de juros é 7.846068238965264\n",
      "[d,r_L,r_H,norm]=[-0.000000, 0.058819, 0.058819, 0.000000]\n",
      "O capital de equilíbrio  para essa taxa de juros é 7.8460685263889856\n",
      "[d,r_L,r_H,norm]=[-0.000000, 0.058819, 0.058819, 0.000000]\n",
      "O capital de equilíbrio  para essa taxa de juros é 7.846068670100851\n",
      "[d,r_L,r_H,norm]=[ 0.000000, 0.058819, 0.058819, 0.000000]\n",
      "O capital de equilíbrio  para essa taxa de juros é 7.846068598244919\n",
      "[d,r_L,r_H,norm]=[-0.000000, 0.058819, 0.058819, 0.000000]\n",
      "O capital de equilíbrio  para essa taxa de juros é 7.8460686341728865\n",
      "[d,r_L,r_H,norm]=[-0.000000, 0.058819, 0.058819, 0.000000]\n",
      "O capital de equilíbrio  para essa taxa de juros é 7.846068652136867\n",
      "[d,r_L,r_H,norm]=[ 0.000000, 0.058819, 0.058819, 0.000000]\n",
      "O capital de equilíbrio  para essa taxa de juros é 7.846068643154878\n",
      "[d,r_L,r_H,norm]=[-0.000000, 0.058819, 0.058819, 0.000000]\n"
     ],
     "output_type": "stream"
    }
   ],
   "source": [
    "parameters_objects()\n",
    "compute_equilibrium()"
   ],
   "metadata": {
    "collapsed": false,
    "pycharm": {
     "name": "#%%\n",
     "is_executing": false
    }
   }
  },
  {
   "cell_type": "markdown",
   "source": [
    "Answer:"
   ],
   "metadata": {
    "collapsed": false,
    "pycharm": {
     "name": "#%% md\n"
    }
   }
  },
  {
   "cell_type": "markdown",
   "source": [
    "Let's see what happens with the equilibrium interest rate if we change sigma from 0.98 to 0.90. When $\\beta = 0.98$,\n",
    "the equilibrium interest rate is $2.04 % $, which is the same as $\\rho$. Now, the agent became, impatient thus the his\n",
    "respective beta became lower. That is, in order to the agent give up present consumption, he needs to be compensated,\n",
    "in the intertemporal budget constraint context that means the equilibrium interest rate needs to be greater than \n",
    "before. So the respective interest rate equilibrium is about $5,9%$ which is a big increase compared to the variation \n",
    "of the betas. \n"
   ],
   "metadata": {
    "collapsed": false,
    "pycharm": {
     "name": "#%% md\n"
    }
   }
  }
 ],
 "metadata": {
  "kernelspec": {
   "display_name": "Python 3",
   "language": "python",
   "name": "python3"
  },
  "language_info": {
   "codemirror_mode": {
    "name": "ipython",
    "version": 2
   },
   "file_extension": ".py",
   "mimetype": "text/x-python",
   "name": "python",
   "nbconvert_exporter": "python",
   "pygments_lexer": "ipython2",
   "version": "2.7.6"
  },
  "pycharm": {
   "stem_cell": {
    "cell_type": "raw",
    "source": [],
    "metadata": {
     "collapsed": false
    }
   }
  }
 },
 "nbformat": 4,
 "nbformat_minor": 0
}